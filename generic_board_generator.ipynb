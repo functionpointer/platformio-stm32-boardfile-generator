{
 "cells": [
  {
   "cell_type": "code",
   "execution_count": 1,
   "metadata": {},
   "outputs": [],
   "source": [
    "from pathlib import Path\n",
    "from os import path as os_path\n",
    "import pandas as pd\n",
    "from jinja2 import Template"
   ]
  },
  {
   "cell_type": "code",
   "execution_count": 2,
   "metadata": {},
   "outputs": [],
   "source": [
    "df = pd.read_excel(\"ProductsList.xlsx\", header=5)"
   ]
  },
  {
   "cell_type": "code",
   "execution_count": 3,
   "metadata": {},
   "outputs": [],
   "source": [
    "df = df.dropna()"
   ]
  },
  {
   "cell_type": "code",
   "execution_count": 4,
   "metadata": {},
   "outputs": [
    {
     "name": "stdout",
     "output_type": "stream",
     "text": [
      "Number of MCUs found: 48\n"
     ]
    }
   ],
   "source": [
    "print(\"Number of MCUs found: {}\".format(len(df)))"
   ]
  },
  {
   "cell_type": "code",
   "execution_count": 5,
   "metadata": {},
   "outputs": [],
   "source": [
    "df.columns=df.columns.str.replace('[^a-zA-Z]', '')\n",
    "df[\"svdfile\"]=df[\"PartNumber\"].str.slice(0,-2)+\".svd\"\n",
    "df[\"ldscript\"]=df[\"PartNumber\"]+\"_FLASH.ld\""
   ]
  },
  {
   "cell_type": "code",
   "execution_count": 6,
   "metadata": {},
   "outputs": [
    {
     "name": "stdout",
     "output_type": "stream",
     "text": [
      "STM32G030.svd\n",
      "STM32G031.svd\n",
      "STM32G041.svd\n",
      "STM32G070.svd\n",
      "STM32G071.svd\n",
      "STM32G081.svd\n"
     ]
    }
   ],
   "source": [
    "for q in df[\"svdfile\"].unique():\n",
    "    print(q)"
   ]
  },
  {
   "cell_type": "code",
   "execution_count": 7,
   "metadata": {},
   "outputs": [
    {
     "name": "stdout",
     "output_type": "stream",
     "text": [
      "True\n",
      "True\n",
      "True\n",
      "True\n",
      "True\n",
      "True\n"
     ]
    }
   ],
   "source": [
    "for q in df[\"svdfile\"].unique():\n",
    "    exists = os_path.isfile(os_path.join(\"..\",\"platform-ststm32\",\"misc\",\"svd\",q))\n",
    "    print(exists)"
   ]
  },
  {
   "cell_type": "code",
   "execution_count": 8,
   "metadata": {},
   "outputs": [],
   "source": [
    "#todo: check if ldfiles exist"
   ]
  },
  {
   "cell_type": "code",
   "execution_count": 9,
   "metadata": {},
   "outputs": [],
   "source": [
    "template = \"\"\"{\n",
    "  \"build\": {\n",
    "    \"core\": \"maple\",\n",
    "    \"cpu\": \"cortex-m0plus\",\n",
    "    \"extra_flags\": \"-DSTM32G0xx -D{{PartNumber[:-2]+\"xx\"}}\",\n",
    "    \"f_cpu\": \"{{ \"%.0f\"|format(OperatingFrequencyMHz*10)}}00000L\",\n",
    "    \"mcu\": \"{{PartNumber.lower()}}\",\n",
    "    \"variant\": \"stm32g0\"\n",
    "  },\n",
    "  \"debug\": {\n",
    "    \"default_tools\": [\n",
    "      \"stlink\"\n",
    "    ],\n",
    "    \"jlink_device\": \"{{PartNumber}}\",\n",
    "    \"openocd_target\": \"stm32g0x\",\n",
    "    \"svd_path\": \"{{svdfile}}\"\n",
    "  },\n",
    "  \"frameworks\": [\n",
    "    \"stm32cube\"\n",
    "  ],\n",
    "  \"name\": \"{{PartNumber}} ({{RAMSizekB|int}}k RAM. {{FlashSizekBProg|int}}k Flash)\",\n",
    "  \"upload\": {\n",
    "    \"disable_flushing\": false,\n",
    "    \"maximum_ram_size\": {{RAMSizekB | int*1024}},\n",
    "    \"maximum_size\": {{FlashSizekBProg | int*1024}},\n",
    "    \"protocol\": \"stlink\",\n",
    "    \"protocols\": [\n",
    "      \"jlink\",\n",
    "      \"stlink\",\n",
    "      \"blackmagic\",\n",
    "      \"serial\"\n",
    "    ],\n",
    "    \"require_upload_port\": true,\n",
    "    \"use_1200bps_touch\": false,\n",
    "    \"wait_for_upload_port\": false\n",
    "  },\n",
    "  \"url\": \"https://www.st.com/en/microcontrollers-microprocessors/{{PartNumber.lower()}}.html\",\n",
    "  \"vendor\": \"ST\"\n",
    "}\n",
    "\n",
    "\"\"\""
   ]
  },
  {
   "cell_type": "code",
   "execution_count": 10,
   "metadata": {},
   "outputs": [
    {
     "name": "stdout",
     "output_type": "stream",
     "text": [
      "{\n",
      "  \"build\": {\n",
      "    \"core\": \"maple\",\n",
      "    \"cpu\": \"cortex-m0plus\",\n",
      "    \"extra_flags\": \"-DSTM32G0xx -DSTM32G030xx\",\n",
      "    \"f_cpu\": \"64000000L\",\n",
      "    \"mcu\": \"stm32g030c8\",\n",
      "    \"variant\": \"stm32g0\"\n",
      "  },\n",
      "  \"debug\": {\n",
      "    \"default_tools\": [\n",
      "      \"stlink\"\n",
      "    ],\n",
      "    \"jlink_device\": \"STM32G030C8\",\n",
      "    \"openocd_target\": \"stm32g0x\",\n",
      "    \"svd_path\": \"STM32G030.svd\"\n",
      "  },\n",
      "  \"frameworks\": [\n",
      "    \"stm32cube\"\n",
      "  ],\n",
      "  \"name\": \"STM32G030C8 (8k RAM. 64k Flash)\",\n",
      "  \"upload\": {\n",
      "    \"disable_flushing\": false,\n",
      "    \"maximum_ram_size\": 8192,\n",
      "    \"maximum_size\": 65536,\n",
      "    \"protocol\": \"stlink\",\n",
      "    \"protocols\": [\n",
      "      \"jlink\",\n",
      "      \"stlink\",\n",
      "      \"blackmagic\",\n",
      "      \"serial\"\n",
      "    ],\n",
      "    \"require_upload_port\": true,\n",
      "    \"use_1200bps_touch\": false,\n",
      "    \"wait_for_upload_port\": false\n",
      "  },\n",
      "  \"url\": \"https://www.st.com/en/microcontrollers-microprocessors/stm32g030c8.html\",\n",
      "  \"vendor\": \"ST\"\n",
      "}\n",
      "\n"
     ]
    }
   ],
   "source": [
    "t = Template(template)\n",
    "result = t.render(df.iloc[1])\n",
    "print(result)"
   ]
  },
  {
   "cell_type": "code",
   "execution_count": 11,
   "metadata": {},
   "outputs": [],
   "source": [
    "filename = \"generic{{PartNumber}}.json\"\n",
    "output_folder = \"output\""
   ]
  },
  {
   "cell_type": "code",
   "execution_count": 12,
   "metadata": {},
   "outputs": [],
   "source": [
    "ft = Template(filename)"
   ]
  },
  {
   "cell_type": "code",
   "execution_count": 13,
   "metadata": {},
   "outputs": [],
   "source": [
    "Path(output_folder).mkdir(exist_ok=True)"
   ]
  },
  {
   "cell_type": "code",
   "execution_count": 15,
   "metadata": {},
   "outputs": [],
   "source": [
    "for _,row in df.iterrows():\n",
    "    with open(os_path.join(output_folder,ft.render(row)), \"w\") as f:\n",
    "        f.write(t.render(row))"
   ]
  },
  {
   "cell_type": "code",
   "execution_count": null,
   "metadata": {},
   "outputs": [],
   "source": [
    "df"
   ]
  }
 ],
 "metadata": {
  "kernelspec": {
   "display_name": "Python 3",
   "language": "python",
   "name": "python3"
  },
  "language_info": {
   "codemirror_mode": {
    "name": "ipython",
    "version": 3
   },
   "file_extension": ".py",
   "mimetype": "text/x-python",
   "name": "python",
   "nbconvert_exporter": "python",
   "pygments_lexer": "ipython3",
   "version": "3.8.1"
  }
 },
 "nbformat": 4,
 "nbformat_minor": 4
}
